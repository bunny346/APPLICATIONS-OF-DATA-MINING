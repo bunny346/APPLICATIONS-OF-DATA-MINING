{
  "nbformat": 4,
  "nbformat_minor": 0,
  "metadata": {
    "colab": {
      "provenance": [],
      "authorship_tag": "ABX9TyPgD0zyZpCJc+fiONOdu+K1",
      "include_colab_link": true
    },
    "kernelspec": {
      "name": "python3",
      "display_name": "Python 3"
    },
    "language_info": {
      "name": "python"
    }
  },
  "cells": [
    {
      "cell_type": "markdown",
      "metadata": {
        "id": "view-in-github",
        "colab_type": "text"
      },
      "source": [
        "<a href=\"https://colab.research.google.com/github/bunny346/APPLICATIONS-OF-DATA-MINING/blob/main/LAB_6.ipynb\" target=\"_parent\"><img src=\"https://colab.research.google.com/assets/colab-badge.svg\" alt=\"Open In Colab\"/></a>"
      ]
    },
    {
      "cell_type": "code",
      "source": [
        "import pandas as pd\n",
        "from sklearn.preprocessing import LabelEncoder\n",
        "from datetime import datetime\n",
        "\n",
        "data = {\n",
        "    'Employee_ID': [101, 102, 103, 104, 105],\n",
        "    'Department': ['HR', 'IT', 'Finance', 'Sales', 'IT'],\n",
        "    'Joining_Date': ['2015-06-15', '2018-09-10', '2012-04-23', '2020-11-30', '2016-08-25'],\n",
        "    'Salary': [50000, 70000, 65000, 45000, 72000]\n",
        "}\n",
        "df = pd.DataFrame(data)\n",
        "\n",
        "df['Joining_Date'] = pd.to_datetime(df['Joining_Date'])\n",
        "\n",
        "current_year = datetime.now().year\n",
        "df['Years_Experience'] = current_year - df['Joining_Date'].dt.year\n",
        "\n",
        "label_encoder = LabelEncoder()\n",
        "df['Label_Encoded'] = label_encoder.fit_transform(df['Department'])\n",
        "\n",
        "df = pd.concat([df, pd.get_dummies(df['Department'], prefix='Dept')], axis=1)\n",
        "\n",
        "grouped = df.groupby('Department').agg({'Salary': ['sum', 'mean'], 'Years_Experience': ['mean']})\n",
        "\n",
        "pivot = df.pivot_table(index='Department', values=['Salary', 'Years_Experience'], aggfunc=['sum', 'mean'])\n",
        "\n",
        "print(\"Transformed Data:\")\n",
        "print(df)\n",
        "print(\"\\n\\n\\nGrouped Data:\")\n",
        "print(grouped)\n",
        "print(\"\\n\\n\\nPivot Table:\")\n",
        "print(pivot)\n"
      ],
      "metadata": {
        "colab": {
          "base_uri": "https://localhost:8080/"
        },
        "id": "gXULXGxWXkj6",
        "outputId": "d6fede29-25a9-4bc8-cb89-348a3567c010"
      },
      "execution_count": 2,
      "outputs": [
        {
          "output_type": "stream",
          "name": "stdout",
          "text": [
            "Transformed Data:\n",
            "   Employee_ID Department Joining_Date  Salary  Years_Experience  \\\n",
            "0          101         HR   2015-06-15   50000                10   \n",
            "1          102         IT   2018-09-10   70000                 7   \n",
            "2          103    Finance   2012-04-23   65000                13   \n",
            "3          104      Sales   2020-11-30   45000                 5   \n",
            "4          105         IT   2016-08-25   72000                 9   \n",
            "\n",
            "   Label_Encoded  Dept_Finance  Dept_HR  Dept_IT  Dept_Sales  \n",
            "0              1         False     True    False       False  \n",
            "1              2         False    False     True       False  \n",
            "2              0          True    False    False       False  \n",
            "3              3         False    False    False        True  \n",
            "4              2         False    False     True       False  \n",
            "\n",
            "\n",
            "\n",
            "Grouped Data:\n",
            "            Salary          Years_Experience\n",
            "               sum     mean             mean\n",
            "Department                                  \n",
            "Finance      65000  65000.0             13.0\n",
            "HR           50000  50000.0             10.0\n",
            "IT          142000  71000.0              8.0\n",
            "Sales        45000  45000.0              5.0\n",
            "\n",
            "\n",
            "\n",
            "Pivot Table:\n",
            "               sum                      mean                 \n",
            "            Salary Years_Experience   Salary Years_Experience\n",
            "Department                                                   \n",
            "Finance      65000               13  65000.0             13.0\n",
            "HR           50000               10  50000.0             10.0\n",
            "IT          142000               16  71000.0              8.0\n",
            "Sales        45000                5  45000.0              5.0\n"
          ]
        }
      ]
    }
  ]
}